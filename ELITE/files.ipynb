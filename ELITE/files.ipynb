{
 "cells": [
  {
   "cell_type": "markdown",
   "metadata": {},
   "source": [
    "Files"
   ]
  },
  {
   "cell_type": "code",
   "execution_count": 2,
   "metadata": {},
   "outputs": [],
   "source": [
    "fo = open(\"hello.txt\",\"w\")"
   ]
  },
  {
   "cell_type": "code",
   "execution_count": 3,
   "metadata": {},
   "outputs": [],
   "source": [
    "fo.close()"
   ]
  },
  {
   "cell_type": "code",
   "execution_count": 4,
   "metadata": {},
   "outputs": [],
   "source": [
    "fo = open(\"hello.txt\",\"r\")"
   ]
  },
  {
   "cell_type": "code",
   "execution_count": 8,
   "metadata": {},
   "outputs": [],
   "source": [
    "fo = open(\"hello.txt\",\"a\")\n",
    "fo.close()"
   ]
  },
  {
   "cell_type": "code",
   "execution_count": 7,
   "metadata": {},
   "outputs": [],
   "source": [
    "fo = open(\"hello.txt\",\"w\")\n",
    "fo.write(\"Hello\")\n",
    "fo.close()"
   ]
  },
  {
   "cell_type": "code",
   "execution_count": 11,
   "metadata": {},
   "outputs": [],
   "source": [
    "fo = open(\"teja.txt\",\"w\")\n",
    "fo.write(\"Hello\")\n",
    "fo.write(\" Welcome\")\n",
    "l=[\"\\n This \\n \",\" is \\n\",\"Files \\n\",\"concept\\n\"]\n",
    "fo.writelines(l)\n",
    "fo.close()"
   ]
  },
  {
   "cell_type": "code",
   "execution_count": 12,
   "metadata": {},
   "outputs": [
    {
     "name": "stdout",
     "output_type": "stream",
     "text": [
      "Hello Welcome\n",
      " This \n",
      "  is \n",
      "Files \n",
      "concept\n",
      "\n"
     ]
    }
   ],
   "source": [
    "f1 = open(\"teja.txt\",\"r\")\n",
    "print(f1.read())\n",
    "f1.close()"
   ]
  },
  {
   "cell_type": "code",
   "execution_count": 18,
   "metadata": {},
   "outputs": [
    {
     "name": "stdout",
     "output_type": "stream",
     "text": [
      "Hello\n",
      " Welcome\n",
      "\n",
      "[' This \\n', '  is \\n', 'Files \\n', 'concept\\n']\n"
     ]
    }
   ],
   "source": [
    "f1 = open(\"teja.txt\",\"r\")\n",
    "print(f1.read(5))\n",
    "print(f1.readline())\n",
    "print(f1.readlines())\n",
    "f1.close()"
   ]
  },
  {
   "cell_type": "code",
   "execution_count": 20,
   "metadata": {},
   "outputs": [
    {
     "name": "stdout",
     "output_type": "stream",
     "text": [
      "0\n",
      "5\n"
     ]
    }
   ],
   "source": [
    "fo = open(\"teja.txt\",\"w\")\n",
    "print(fo.tell())  #file pointer at 0\n",
    "fo.write(\"Hello\") \n",
    "print(fo.tell())  #file pointer at 5\n",
    "fo.close()"
   ]
  },
  {
   "cell_type": "code",
   "execution_count": 21,
   "metadata": {},
   "outputs": [
    {
     "name": "stdout",
     "output_type": "stream",
     "text": [
      "0\n",
      "17\n"
     ]
    }
   ],
   "source": [
    "fo = open(\"teja.txt\",\"w\")\n",
    "print(fo.tell())  #file pointer at 0\n",
    "fo.write(\"Welcome to python\")\n",
    "print(fo.tell())\n",
    "fo.close() "
   ]
  },
  {
   "cell_type": "code",
   "execution_count": 23,
   "metadata": {},
   "outputs": [
    {
     "name": "stdout",
     "output_type": "stream",
     "text": [
      "0\n",
      "10\n"
     ]
    }
   ],
   "source": [
    "fo = open(\"teja.txt\",\"w\")\n",
    "print(fo.tell())  #file pointer at 0\n",
    "fo.seek(10)\n",
    "print(fo.tell())\n",
    "fo.close() "
   ]
  },
  {
   "cell_type": "code",
   "execution_count": 27,
   "metadata": {},
   "outputs": [],
   "source": [
    "with open(\"hi.txt\",\"w\") as fo:\n",
    "    fo.write(\"Demonstration of with keyword\")"
   ]
  }
 ],
 "metadata": {
  "kernelspec": {
   "display_name": "Python 3",
   "language": "python",
   "name": "python3"
  },
  "language_info": {
   "codemirror_mode": {
    "name": "ipython",
    "version": 3
   },
   "file_extension": ".py",
   "mimetype": "text/x-python",
   "name": "python",
   "nbconvert_exporter": "python",
   "pygments_lexer": "ipython3",
   "version": "3.10.8"
  }
 },
 "nbformat": 4,
 "nbformat_minor": 2
}
