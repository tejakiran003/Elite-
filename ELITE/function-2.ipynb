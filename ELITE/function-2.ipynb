{
 "cells": [
  {
   "cell_type": "code",
   "execution_count": 3,
   "metadata": {},
   "outputs": [
    {
     "name": "stdout",
     "output_type": "stream",
     "text": [
      "90\n",
      "80\n"
     ]
    }
   ],
   "source": [
    "#default arguments\n",
    "def pow(x=80):\n",
    "    print(x)\n",
    "    \n",
    "pow(90)\n",
    "pow()"
   ]
  },
  {
   "cell_type": "code",
   "execution_count": 4,
   "metadata": {},
   "outputs": [
    {
     "name": "stdout",
     "output_type": "stream",
     "text": [
      "print(value, ..., sep=' ', end='\\n', file=sys.stdout, flush=False)\n",
      "\n",
      "Prints the values to a stream, or to sys.stdout by default.\n",
      "Optional keyword arguments:\n",
      "file:  a file-like object (stream); defaults to the current sys.stdout.\n",
      "sep:   string inserted between values, default a space.\n",
      "end:   string appended after the last value, default a newline.\n",
      "flush: whether to forcibly flush the stream.\n"
     ]
    }
   ],
   "source": [
    "print(print.__doc__)"
   ]
  },
  {
   "cell_type": "code",
   "execution_count": 5,
   "metadata": {},
   "outputs": [
    {
     "name": "stdout",
     "output_type": "stream",
     "text": [
      "type(object) -> the object's type\n",
      "type(name, bases, dict, **kwds) -> a new type\n"
     ]
    }
   ],
   "source": [
    "print(type.__doc__)"
   ]
  },
  {
   "cell_type": "code",
   "execution_count": 14,
   "metadata": {},
   "outputs": [
    {
     "name": "stdout",
     "output_type": "stream",
     "text": [
      "10\n",
      "[10, 20, 30]\n",
      "10\n"
     ]
    }
   ],
   "source": [
    "#pass by reference, pass by value\n",
    "#memory location\n",
    "a=10\n",
    "list = [10,20,30]\n",
    "print(a)\n",
    "print(list) \n",
    "list = a\n",
    "print(list)"
   ]
  },
  {
   "cell_type": "code",
   "execution_count": 15,
   "metadata": {},
   "outputs": [
    {
     "name": "stdout",
     "output_type": "stream",
     "text": [
      "10\n",
      "[10, 20, 30]\n",
      "[10, 10, 30]\n"
     ]
    }
   ],
   "source": [
    "#memory location\n",
    "a=10\n",
    "list = [10,20,30]\n",
    "print(a)\n",
    "print(list) \n",
    "list[1] = a #here change 1 index of list \n",
    "print(list)"
   ]
  },
  {
   "cell_type": "code",
   "execution_count": 16,
   "metadata": {},
   "outputs": [
    {
     "name": "stdout",
     "output_type": "stream",
     "text": [
      "[80, 90, 70, 65, 43]\n"
     ]
    }
   ],
   "source": [
    "def calculate(myMarks):\n",
    "    myMarks[2]=70\n",
    "    \n",
    "marks = [80,90,45,65,43]\n",
    "calculate(marks)\n",
    "print(marks)\n",
    "    "
   ]
  },
  {
   "cell_type": "code",
   "execution_count": 17,
   "metadata": {},
   "outputs": [
    {
     "name": "stdout",
     "output_type": "stream",
     "text": [
      "[80, 90, 45, 65, 43]\n"
     ]
    }
   ],
   "source": [
    "def calculate(myMarks):\n",
    "    myMarks =[70,20,30]\n",
    "    \n",
    "marks = [80,90,45,65,43]\n",
    "calculate(marks)\n",
    "print(marks)\n",
    "\n",
    "'''if the reference passed to a function gets changed to something\n",
    "else then the connection between the passed and received parameter will break '''"
   ]
  },
  {
   "cell_type": "code",
   "execution_count": 19,
   "metadata": {},
   "outputs": [
    {
     "name": "stdout",
     "output_type": "stream",
     "text": [
      "20\n",
      "10\n"
     ]
    }
   ],
   "source": [
    "def luckyNumber(number):\n",
    "    number = 20\n",
    "    return number\n",
    "\n",
    "number = 10\n",
    "print(luckyNumber (number))\n",
    "print(number)"
   ]
  },
  {
   "cell_type": "code",
   "execution_count": 24,
   "metadata": {},
   "outputs": [
    {
     "name": "stdout",
     "output_type": "stream",
     "text": [
      "name:Zippy color: red capacity:1 height:10\n"
     ]
    }
   ],
   "source": [
    "#keyword arguments\n",
    "def bottleDetails(name,color,capacity,height):\n",
    "    print('name:{} color: {} capacity:{} height:{}'.format(name,color,capacity,height))\n",
    "    \n",
    "bottleDetails('Zippy','red',1,10)\n",
    "          "
   ]
  },
  {
   "cell_type": "code",
   "execution_count": 25,
   "metadata": {},
   "outputs": [
    {
     "name": "stdout",
     "output_type": "stream",
     "text": [
      "name:Zirpy color: red capacity:1 height:10\n"
     ]
    }
   ],
   "source": [
    "def bottleDetails(name,color,capacity,height):\n",
    "    print('name:{} color: {} capacity:{} height:{}'.format(name,color,capacity,height))\n",
    "    \n",
    "bottleDetails(color='red',name='Zirpy',capacity=1,height=10)"
   ]
  },
  {
   "cell_type": "code",
   "execution_count": 28,
   "metadata": {},
   "outputs": [
    {
     "name": "stdout",
     "output_type": "stream",
     "text": [
      "72\n"
     ]
    }
   ],
   "source": [
    "#variable number of arguments\n",
    "def multiply(*args):\n",
    "    mult =1\n",
    "    for number in args:\n",
    "        mult=mult*number\n",
    "    return mult\n",
    "\n",
    "result = multiply(1,2,3,3,4)\n",
    "print(result)"
   ]
  },
  {
   "cell_type": "code",
   "execution_count": 30,
   "metadata": {},
   "outputs": [
    {
     "name": "stdout",
     "output_type": "stream",
     "text": [
      "720\n"
     ]
    }
   ],
   "source": [
    "def multiply(start,*args):\n",
    "    mult =start\n",
    "    for number in args:\n",
    "        mult=mult*number\n",
    "    return mult\n",
    "\n",
    "result = multiply(10,1,2,3,3,4)\n",
    "print(result)"
   ]
  },
  {
   "cell_type": "code",
   "execution_count": 32,
   "metadata": {},
   "outputs": [
    {
     "name": "stdout",
     "output_type": "stream",
     "text": [
      "10 5 21\n"
     ]
    }
   ],
   "source": [
    "def eatMe(apple,banana,grapes):\n",
    "    print(apple,banana,grapes)\n",
    "    \n",
    "fruits = (10,5,21)\n",
    "eatMe(*fruits)"
   ]
  },
  {
   "cell_type": "code",
   "execution_count": null,
   "metadata": {},
   "outputs": [],
   "source": []
  }
 ],
 "metadata": {
  "kernelspec": {
   "display_name": "Python 3",
   "language": "python",
   "name": "python3"
  },
  "language_info": {
   "codemirror_mode": {
    "name": "ipython",
    "version": 3
   },
   "file_extension": ".py",
   "mimetype": "text/x-python",
   "name": "python",
   "nbconvert_exporter": "python",
   "pygments_lexer": "ipython3",
   "version": "3.10.8"
  }
 },
 "nbformat": 4,
 "nbformat_minor": 2
}
