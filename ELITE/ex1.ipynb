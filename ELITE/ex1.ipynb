{
 "cells": [
  {
   "cell_type": "markdown",
   "metadata": {},
   "source": [
    "Input statements"
   ]
  },
  {
   "cell_type": "code",
   "execution_count": 1,
   "metadata": {},
   "outputs": [
    {
     "name": "stdout",
     "output_type": "stream",
     "text": [
      "Hello ,teja!you are 20 years old .\n"
     ]
    }
   ],
   "source": [
    "#print name and age\n",
    "name=input(\"enter your name:\")\n",
    "age=int(input(\"enter your age:\"))\n",
    "print(\"Hello ,\"+name+\"!you are\",age,\"years old .\" )"
   ]
  },
  {
   "cell_type": "code",
   "execution_count": 7,
   "metadata": {},
   "outputs": [
    {
     "name": "stdout",
     "output_type": "stream",
     "text": [
      "21\n"
     ]
    }
   ],
   "source": [
    "#giving input value with message\n",
    "a=int(input('give a value:'))\n",
    "print(a)"
   ]
  },
  {
   "cell_type": "markdown",
   "metadata": {},
   "source": [
    "Output statements"
   ]
  },
  {
   "cell_type": "code",
   "execution_count": 5,
   "metadata": {},
   "outputs": [
    {
     "name": "stdout",
     "output_type": "stream",
     "text": [
      "21#22 bye "
     ]
    }
   ],
   "source": [
    "#using sep and end keywords\n",
    "a=int(input(\"enter a value:\"))\n",
    "b=int(input(\"enter b value\"))\n",
    "print(a,b,sep=\"#\",end=\" bye \")"
   ]
  },
  {
   "cell_type": "markdown",
   "metadata": {},
   "source": [
    "example 1"
   ]
  },
  {
   "cell_type": "code",
   "execution_count": 8,
   "metadata": {},
   "outputs": [
    {
     "name": "stdout",
     "output_type": "stream",
     "text": [
      "Hello, john!"
     ]
    }
   ],
   "source": [
    "#STRING INPUT AND OUTPUT\n",
    "#excepted input :\"john\"\n",
    "#excepted output:\"hello, john!\"\n",
    "a=input(\"enter a name:\")\n",
    "print(\"Hello\",a,sep=\", \",end=\"!\")"
   ]
  },
  {
   "cell_type": "markdown",
   "metadata": {},
   "source": [
    "example 2"
   ]
  },
  {
   "cell_type": "code",
   "execution_count": 10,
   "metadata": {},
   "outputs": [
    {
     "name": "stdout",
     "output_type": "stream",
     "text": [
      "You entered:5\n"
     ]
    }
   ],
   "source": [
    "#INTEGER INPUT & OUTPUT\n",
    "#excepted input : 5\n",
    "#excepted output : \"You entered:5\"\n",
    "a=int(input(\"enter any number:\"))\n",
    "print(\"You entered:\",a,sep=\"\")"
   ]
  },
  {
   "cell_type": "markdown",
   "metadata": {},
   "source": [
    "example 3"
   ]
  },
  {
   "cell_type": "code",
   "execution_count": 13,
   "metadata": {},
   "outputs": [
    {
     "name": "stdout",
     "output_type": "stream",
     "text": [
      "value of Pi:3.14\n"
     ]
    }
   ],
   "source": [
    "#FLOAT INPUT AND OUTPUT\n",
    "#excepted input : 3.14\n",
    "#excepted output: \"value of Pi:3.14\"\n",
    "x=float(input(\"enter pi value:\"))\n",
    "print(\"value of Pi:\",x,sep=\"\")"
   ]
  },
  {
   "cell_type": "markdown",
   "metadata": {},
   "source": [
    "example 4"
   ]
  },
  {
   "cell_type": "code",
   "execution_count": 26,
   "metadata": {},
   "outputs": [
    {
     "name": "stdout",
     "output_type": "stream",
     "text": [
      "sum of inputs: 75\n"
     ]
    }
   ],
   "source": [
    "#TAKING MULTIPLE INPUTS IN A SINGLE LINE\n",
    "#excepted input : 10 20 30\n",
    "#excepted output: \"sum of inputs:60\"\n",
    "x,y,z=map(int, input(\"enter x,y,z values:\").split(','))\n",
    "sum=x+y+z\n",
    "print(\"sum of inputs:\",sum)"
   ]
  },
  {
   "cell_type": "markdown",
   "metadata": {},
   "source": [
    "example 5"
   ]
  },
  {
   "cell_type": "code",
   "execution_count": 28,
   "metadata": {},
   "outputs": [
    {
     "name": "stdout",
     "output_type": "stream",
     "text": [
      "Name:john,Age:25\n"
     ]
    }
   ],
   "source": [
    "#SPECIFYING SEPARATOR IN OUTPUT\n",
    "#excepted input :\"john\",25\n",
    "#excepted output: \"Name:john,Age:25\"\n",
    "a,b=input(\"enter name and age:\").split(',')\n",
    "print(\"Name:\",a,\",Age:\",int(b),sep=\"\")"
   ]
  },
  {
   "cell_type": "markdown",
   "metadata": {},
   "source": [
    "example 6"
   ]
  },
  {
   "cell_type": "code",
   "execution_count": 30,
   "metadata": {},
   "outputs": [
    {
     "name": "stdout",
     "output_type": "stream",
     "text": [
      "countdown:12 11 10 9 8 7 6 5 4 3 2 1 blast off!\n"
     ]
    }
   ],
   "source": [
    "#END PARAMETERS IN OUTPUT\n",
    "#excepted input :5\n",
    "#excepted output: \"countdown:5 4 3 2 1 Blast off!\"\n",
    "a=int(input(\"enter the number:\"))\n",
    "print(\"countdown:\",end=\"\")\n",
    "for i in range (a,0,-1):\n",
    "  print(i,end=\" \")\n",
    "print(\"blast off!\")"
   ]
  },
  {
   "cell_type": "markdown",
   "metadata": {},
   "source": [
    "example 7  "
   ]
  },
  {
   "cell_type": "code",
   "execution_count": 36,
   "metadata": {},
   "outputs": [
    {
     "name": "stdout",
     "output_type": "stream",
     "text": [
      "Addition:7,subtraction:-3,Multiplication:10,Division:0.4\n"
     ]
    }
   ],
   "source": [
    "#ARITHMETIC OPERATORS\n",
    "#excepted input :10,5\n",
    "#excepted output: \"Addition:15,subtraction:5,MUltiplication:50,Division:2.0\"\n",
    "#--logic 1\n",
    "a, b=map(int, input(\"enter any 2 numbers:\").split(\",\"))\n",
    "print(f\"Addition:{a+b},subtraction:{a-b},Multiplication:{a*b},Division:{a/b}\")"
   ]
  },
  {
   "cell_type": "markdown",
   "metadata": {},
   "source": [
    "example 8"
   ]
  },
  {
   "cell_type": "code",
   "execution_count": 38,
   "metadata": {},
   "outputs": [
    {
     "name": "stdout",
     "output_type": "stream",
     "text": [
      "False,True,False,True\n"
     ]
    }
   ],
   "source": [
    "#COMPARISION OPERATORS\n",
    "#excepted input :10,5\n",
    "#excepted output:\"10>5:True,10<5:False,10==5:False,10!=5:True\"\n",
    "a,b=map(int,input(\"enter any two numbers: \").split(\",\"))\n",
    "print(f\"{x>y},{x<y},{x==y},{x!=y}\")"
   ]
  },
  {
   "cell_type": "markdown",
   "metadata": {},
   "source": [
    "example 9"
   ]
  },
  {
   "cell_type": "code",
   "execution_count": 44,
   "metadata": {},
   "outputs": [
    {
     "name": "stdout",
     "output_type": "stream",
     "text": [
      "True and True:False,True or True:True,True or 5:True,not True:False\n"
     ]
    }
   ],
   "source": [
    "#LOGICAL OPERATORS\n",
    "#excepted input :True,False\n",
    "#excepted output:\"True and False:False, True or False:True, not True:False\"\n",
    "x,y=map(bool,input(\"enter true and false:\").split(\",\"))\n",
    "print(f\"{x} and {y}:{x>y},{x} or {y}:{x or y},{x} or {b}:{x or y},not {x}:{x != y}\")"
   ]
  },
  {
   "cell_type": "markdown",
   "metadata": {},
   "source": [
    "example 10"
   ]
  },
  {
   "cell_type": "code",
   "execution_count": 49,
   "metadata": {},
   "outputs": [
    {
     "name": "stdout",
     "output_type": "stream",
     "text": [
      "Yes\n"
     ]
    }
   ],
   "source": [
    "#Taking Yes/No Input and Handling Case Sensitivity\n",
    "#excepted input : Yes(or yes,YES,yEs,etc.)\n",
    "#excepted output:\"You entered : Yes\"\n",
    "a=input(\"enter yes:\")\n",
    "print(a.capitalize())"
   ]
  }
 ],
 "metadata": {
  "kernelspec": {
   "display_name": "Python 3",
   "language": "python",
   "name": "python3"
  },
  "language_info": {
   "codemirror_mode": {
    "name": "ipython",
    "version": 3
   },
   "file_extension": ".py",
   "mimetype": "text/x-python",
   "name": "python",
   "nbconvert_exporter": "python",
   "pygments_lexer": "ipython3",
   "version": "3.10.8"
  }
 },
 "nbformat": 4,
 "nbformat_minor": 2
}
